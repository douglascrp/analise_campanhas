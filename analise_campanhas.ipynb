{
  "cells": [
    {
      "cell_type": "code",
      "execution_count": null,
      "id": "91dc858f",
      "metadata": {
        "id": "91dc858f"
      },
      "outputs": [],
      "source": [
        "# Pacotes\n",
        "import pandas as pd\n",
        "import matplotlib.pyplot as plt\n",
        "import seaborn as sns\n",
        "\n",
        "# Carregando os dados do arquivo CSV\n",
        "caminho = '/content/Anúncios-1-de-jun-de-2024-30-de-jun-de-2024.csv'\n",
        "data = pd.read_csv(caminho)"
      ]
    },
    {
      "cell_type": "code",
      "execution_count": null,
      "id": "7bd8a3f6",
      "metadata": {
        "id": "7bd8a3f6"
      },
      "outputs": [],
      "source": [
        "data.head(3)"
      ]
    },
    {
      "cell_type": "code",
      "execution_count": null,
      "id": "9c47ece5",
      "metadata": {
        "id": "9c47ece5"
      },
      "outputs": [],
      "source": [
        "data.columns"
      ]
    },
    {
      "cell_type": "code",
      "execution_count": null,
      "id": "4d9ed3bb",
      "metadata": {
        "id": "4d9ed3bb"
      },
      "outputs": [],
      "source": [
        "v_num = ['Resultados',\n",
        "        'Alcance',\n",
        "        'Impressões',\n",
        "        'Custo por resultados',\n",
        "        'Valor usado (BRL)',\n",
        "        'CPM (custo por 1.000 impressões) (BRL)',\n",
        "        'Cliques no link',\n",
        "        'CTR (taxa de cliques no link)']"
      ]
    },
    {
      "cell_type": "code",
      "execution_count": null,
      "id": "92b6390d",
      "metadata": {
        "id": "92b6390d"
      },
      "outputs": [],
      "source": [
        "v_cat = ['Nome da campanha',\n",
        "        'Nome do conjunto de anúncios',\n",
        "        'Nome do anúncio',\n",
        "        'Resultados',\n",
        "        'Índice de resultados']"
      ]
    },
    {
      "cell_type": "code",
      "execution_count": null,
      "id": "3c0b0f88",
      "metadata": {
        "id": "3c0b0f88"
      },
      "outputs": [],
      "source": [
        "data[v_num].describe()"
      ]
    },
    {
      "cell_type": "code",
      "execution_count": null,
      "id": "656ddd60",
      "metadata": {
        "id": "656ddd60"
      },
      "outputs": [],
      "source": [
        "data[v_cat].describe()"
      ]
    },
    {
      "cell_type": "code",
      "execution_count": null,
      "id": "d8a28dcd",
      "metadata": {
        "id": "d8a28dcd"
      },
      "outputs": [],
      "source": [
        "# Configurações para gráficos\n",
        "sns.set(style=\"whitegrid\")"
      ]
    },
    {
      "cell_type": "code",
      "execution_count": null,
      "id": "066e67ba",
      "metadata": {
        "id": "066e67ba"
      },
      "outputs": [],
      "source": [
        "# 1. Campanhas com maior valor usado\n",
        "valor_usado_por_campanha = data.groupby('Nome da campanha')['Valor usado (BRL)'].sum().sort_values(ascending=False).head(10)\n",
        "\n",
        "# Criando o gráfico\n",
        "plt.figure(figsize=(10, 6))\n",
        "valor_usado_plot = sns.barplot(x=valor_usado_por_campanha.values, y=valor_usado_por_campanha.index, palette=\"viridis\")\n",
        "plt.title('Top 10 Campanhas com Maior Valor Usado')\n",
        "plt.xlabel('Valor Usado (BRL)')\n",
        "plt.ylabel('Nome da Campanha')\n",
        "plt.tight_layout()\n",
        "\n",
        "# Salvando o gráfico\n",
        "file_path_valor_usado = 'grafico_valor_usado.png'\n",
        "plt.savefig(file_path_valor_usado)\n",
        "\n",
        "file_path_valor_usado"
      ]
    },
    {
      "cell_type": "code",
      "execution_count": null,
      "id": "df58c00d",
      "metadata": {
        "id": "df58c00d"
      },
      "outputs": [],
      "source": [
        "# 2. Campanhas com menor valor usado\n",
        "valor_usado_por_campanha = data.groupby('Nome da campanha')['Valor usado (BRL)'].sum().sort_values(ascending=True).head(10)\n",
        "\n",
        "# Criando o gráfico\n",
        "plt.figure(figsize=(10, 6))\n",
        "valor_usado_plot = sns.barplot(x=valor_usado_por_campanha.values, y=valor_usado_por_campanha.index, palette=\"viridis\")\n",
        "plt.title('Top 10 Campanhas com Menor Valor Usado')\n",
        "plt.xlabel('Valor Usado (BRL)')\n",
        "plt.ylabel('Nome da Campanha')\n",
        "plt.tight_layout()\n",
        "\n",
        "# Salvando o gráfico\n",
        "file_path_valor_usado = 'grafico_valor_usado.png'\n",
        "plt.savefig(file_path_valor_usado)\n",
        "\n",
        "file_path_valor_usado"
      ]
    },
    {
      "cell_type": "code",
      "execution_count": null,
      "id": "c1556cda",
      "metadata": {
        "scrolled": true,
        "id": "c1556cda"
      },
      "outputs": [],
      "source": [
        "# 2. Campanhas com maior número de resultados (excluindo tipos de resultado específicos)\n",
        "data_filtrada = data[~data['Índice de resultados'].isin(['ThruPlay', 'Cliques no link'])]\n",
        "resultados_por_campanha = data_filtrada.groupby('Nome da campanha')['Resultados'].sum().sort_values(ascending=False).head(10)\n",
        "\n",
        "# Criando o gráfico\n",
        "plt.figure(figsize=(10, 6))\n",
        "resultados_plot = sns.barplot(x=resultados_por_campanha.values, y=resultados_por_campanha.index, palette=\"mako\")\n",
        "plt.title('Top 10 Campanhas com Maior Número de Resultados')\n",
        "plt.xlabel('Número de Resultados')\n",
        "plt.ylabel('Nome da Campanha')\n",
        "plt.tight_layout()\n",
        "\n",
        "# Salvando o gráfico\n",
        "file_path_resultados = 'grafico_resultados.png'\n",
        "plt.savefig(file_path_resultados)\n",
        "\n",
        "file_path_resultados"
      ]
    },
    {
      "cell_type": "code",
      "execution_count": null,
      "id": "7fdf3f47",
      "metadata": {
        "id": "7fdf3f47"
      },
      "outputs": [],
      "source": [
        "# 2. Campanhas com menor número de resultados (excluindo tipos de resultado específicos)\n",
        "data_filtrada = data[~data['Índice de resultados'].isin(['ThruPlay', 'Cliques no link'])]\n",
        "resultados_por_campanha = data_filtrada.groupby('Nome da campanha')['Resultados'].sum().sort_values(ascending=True).head(10)\n",
        "\n",
        "# Criando o gráfico\n",
        "plt.figure(figsize=(10, 6))\n",
        "resultados_plot = sns.barplot(x=resultados_por_campanha.values, y=resultados_por_campanha.index, palette=\"mako\")\n",
        "plt.title('Top 10 Campanhas com Menor Número de Resultados')\n",
        "plt.xlabel('Número de Resultados')\n",
        "plt.ylabel('Nome da Campanha')\n",
        "plt.tight_layout()\n",
        "\n",
        "# Salvando o gráfico\n",
        "file_path_resultados = 'grafico_resultados.png'\n",
        "plt.savefig(file_path_resultados)\n",
        "\n",
        "file_path_resultados"
      ]
    },
    {
      "cell_type": "code",
      "execution_count": null,
      "id": "00958c5e",
      "metadata": {
        "id": "00958c5e"
      },
      "outputs": [],
      "source": [
        "# Calculando o número total de resultados para cada campanha\n",
        "resultados_por_campanha = data.groupby('Nome da campanha')['Resultados'].sum()\n",
        "\n",
        "# Separando as campanhas com maior e menor número de resultados\n",
        "top_campanhas_maior_resultado = resultados_por_campanha.nlargest(10)\n",
        "top_campanhas_menor_resultado = resultados_por_campanha.nsmallest(10)\n",
        "\n",
        "# Criando a figura e os eixos para os gráficos lado a lado\n",
        "fig, (ax1, ax2) = plt.subplots(1, 2, figsize=(15, 6))\n",
        "\n",
        "# Gráfico das campanhas com maior número de resultados\n",
        "sns.barplot(ax=ax1, x=top_campanhas_maior_resultado.values, y=top_campanhas_maior_resultado.index, palette=\"Blues_d\")\n",
        "ax1.set_title('Top 10 Campanhas com Maior Número de Resultados')\n",
        "ax1.set_xlabel('Número de Resultados')\n",
        "ax1.set_ylabel('Nome da Campanha')\n",
        "\n",
        "# Gráfico das campanhas com menor número de resultados\n",
        "sns.barplot(ax=ax2, x=top_campanhas_menor_resultado.values, y=top_campanhas_menor_resultado.index, palette=\"Greens_d\")\n",
        "ax2.set_title('Top 10 Campanhas com Menor Número de Resultados')\n",
        "ax2.set_xlabel('Número de Resultados')\n",
        "ax2.set_ylabel('Nome da Campanha')\n",
        "\n",
        "# Ajustando o layout e exibindo os gráficos\n",
        "plt.tight_layout()\n",
        "plt.show()"
      ]
    },
    {
      "cell_type": "code",
      "execution_count": null,
      "id": "88c0ffac",
      "metadata": {
        "id": "88c0ffac"
      },
      "outputs": [],
      "source": [
        "# 3. Campanhas com menor média de custo por resultado (excluindo tipos de resultado específicos)\n",
        "custo_por_resultado_medio = data_filtrada.groupby('Nome da campanha')['Custo por resultados'].mean().sort_values(ascending=True).head(10)\n",
        "\n",
        "# Criando o gráfico\n",
        "plt.figure(figsize=(10, 6))\n",
        "custo_plot1 = sns.barplot(x=custo_por_resultado_medio.values, y=custo_por_resultado_medio.index, palette=\"cubehelix\")\n",
        "plt.title('Top 10 Campanhas com Menor Média de Custo por Resultado')\n",
        "plt.xlabel('Média de Custo por Resultado (BRL)')\n",
        "plt.ylabel('Nome da Campanha')\n",
        "plt.tight_layout()\n",
        "\n",
        "# Salvando o gráfico\n",
        "file_path_custo = 'grafico_custo_por_resultado.png'\n",
        "plt.savefig(file_path_custo)\n",
        "\n",
        "file_path_custo"
      ]
    },
    {
      "cell_type": "code",
      "execution_count": null,
      "id": "dfaa8c84",
      "metadata": {
        "id": "dfaa8c84"
      },
      "outputs": [],
      "source": [
        "# 3. Campanhas com maior média de custo por resultado (excluindo tipos de resultado específicos)\n",
        "custo_por_resultado_medio = data_filtrada.groupby('Nome da campanha')['Custo por resultados'].mean().sort_values(ascending=False).head(10)\n",
        "\n",
        "# Criando o gráfico\n",
        "plt.figure(figsize=(10, 6))\n",
        "custo_plot2 = sns.barplot(x=custo_por_resultado_medio.values, y=custo_por_resultado_medio.index, palette=\"cubehelix\")\n",
        "plt.title('Top 10 Campanhas com Maior Média de Custo por Resultado')\n",
        "plt.xlabel('Média de Custo por Resultado (BRL)')\n",
        "plt.ylabel('Nome da Campanha')\n",
        "plt.tight_layout()\n",
        "\n",
        "# Salvando o gráfico\n",
        "file_path_custo = 'grafico_custo_por_resultado.png'\n",
        "plt.savefig(file_path_custo)\n",
        "\n",
        "file_path_custo"
      ]
    },
    {
      "cell_type": "code",
      "execution_count": null,
      "id": "2006c4bc",
      "metadata": {
        "id": "2006c4bc"
      },
      "outputs": [],
      "source": [
        "\n",
        "\n",
        "# Calculando a média de custo por resultado para cada campanha\n",
        "custo_medio_por_campanha = data.groupby('Nome da campanha')['Custo por resultados'].mean()\n",
        "\n",
        "# Separando as campanhas com maior e menor média de custo por resultado\n",
        "top_campanhas_maior_custo = custo_medio_por_campanha.nlargest(10)\n",
        "top_campanhas_menor_custo = custo_medio_por_campanha.nsmallest(10)\n",
        "\n",
        "# Criando a figura e os eixos para os gráficos lado a lado\n",
        "fig, (ax1, ax2) = plt.subplots(1, 2, figsize=(15, 6))\n",
        "\n",
        "# Gráfico das campanhas com maior média de custo por resultado\n",
        "sns.barplot(ax=ax1, x=top_campanhas_maior_custo.values, y=top_campanhas_maior_custo.index, palette=\"Blues_d\")\n",
        "ax1.set_title('Top 10 Campanhas com Maior Média de Custo por Resultado')\n",
        "ax1.set_xlabel('Média de Custo por Resultado')\n",
        "ax1.set_ylabel('Nome da Campanha')\n",
        "\n",
        "# Gráfico das campanhas com menor média de custo por resultado\n",
        "sns.barplot(ax=ax2, x=top_campanhas_menor_custo.values, y=top_campanhas_menor_custo.index, palette=\"Greens_d\")\n",
        "ax2.set_title('Top 10 Campanhas com Menor Média de Custo por Resultado')\n",
        "ax2.set_xlabel('Média de Custo por Resultado')\n",
        "ax2.set_ylabel('Nome da Campanha')\n",
        "\n",
        "# Ajustando o layout e exibindo os gráficos\n",
        "plt.tight_layout()\n",
        "plt.show()"
      ]
    },
    {
      "cell_type": "code",
      "execution_count": null,
      "id": "18313f40",
      "metadata": {
        "id": "18313f40"
      },
      "outputs": [],
      "source": [
        "# 4. Campanhas com maior média de CTR (taxa de cliques no link)\n",
        "ctr_medio_por_campanha = data.groupby('Nome da campanha')['CTR (taxa de cliques no link)'].mean().sort_values(ascending=False).head(10)\n",
        "\n",
        "# Criando o gráfico\n",
        "plt.figure(figsize=(10, 6))\n",
        "ctr_plot = sns.barplot(x=ctr_medio_por_campanha.values, y=ctr_medio_por_campanha.index, palette=\"rocket\")\n",
        "plt.title('Top 10 Campanhas com Maior Média de CTR (Cliques no Link)')\n",
        "plt.xlabel('Média de CTR (%)')\n",
        "plt.ylabel('Nome da Campanha')\n",
        "plt.tight_layout()\n",
        "\n",
        "# Salvando o gráfico\n",
        "file_path_ctr = 'grafico_ctr.png'\n",
        "plt.savefig(file_path_ctr)\n",
        "\n",
        "file_path_ctr"
      ]
    },
    {
      "cell_type": "code",
      "execution_count": null,
      "id": "0d779b90",
      "metadata": {
        "id": "0d779b90"
      },
      "outputs": [],
      "source": [
        "# 4. Campanhas com menor média de CTR (taxa de cliques no link)\n",
        "ctr_medio_por_campanha = data.groupby('Nome da campanha')['CTR (taxa de cliques no link)'].mean().sort_values(ascending=True).head(10)\n",
        "\n",
        "# Criando o gráfico\n",
        "plt.figure(figsize=(10, 6))\n",
        "ctr_plot = sns.barplot(x=ctr_medio_por_campanha.values, y=ctr_medio_por_campanha.index, palette=\"rocket\")\n",
        "plt.title('Top 10 Campanhas com Menor Média de CTR (Cliques no Link)')\n",
        "plt.xlabel('Média de CTR (%)')\n",
        "plt.ylabel('Nome da Campanha')\n",
        "plt.tight_layout()\n",
        "\n",
        "# Salvando o gráfico\n",
        "file_path_ctr = 'grafico_ctr.png'\n",
        "plt.savefig(file_path_ctr)\n",
        "\n",
        "file_path_ctr"
      ]
    },
    {
      "cell_type": "code",
      "execution_count": null,
      "id": "56152d94",
      "metadata": {
        "id": "56152d94"
      },
      "outputs": [],
      "source": [
        "ctr_medio_por_campanha = data.groupby('Nome da campanha')['CTR (taxa de cliques no link)'].mean()\n",
        "\n",
        "# Separando as campanhas com maior e menor média de CTR\n",
        "top_campanhas_maior_ctr = ctr_medio_por_campanha.nlargest(10)\n",
        "top_campanhas_menor_ctr = ctr_medio_por_campanha.nsmallest(10)\n",
        "\n",
        "# Criando a figura e os eixos para os gráficos lado a lado\n",
        "fig, (ax1, ax2) = plt.subplots(1, 2, figsize=(15, 6))\n",
        "\n",
        "# Gráfico das campanhas com maior média de CTR\n",
        "sns.barplot(ax=ax1, x=top_campanhas_maior_ctr.values, y=top_campanhas_maior_ctr.index, palette=\"Blues_d\")\n",
        "ax1.set_title('Top 10 Campanhas com Maior Média de CTR')\n",
        "ax1.set_xlabel('Média de CTR (%)')\n",
        "ax1.set_ylabel('Nome da Campanha')\n",
        "\n",
        "# Gráfico das campanhas com menor média de CTR\n",
        "sns.barplot(ax=ax2, x=top_campanhas_menor_ctr.values, y=top_campanhas_menor_ctr.index, palette=\"Greens_d\")\n",
        "ax2.set_title('Top 10 Campanhas com Menor Média de CTR')\n",
        "ax2.set_xlabel('Média de CTR (%)')\n",
        "ax2.set_ylabel('Nome da Campanha')\n",
        "\n",
        "# Ajustando o layout e exibindo os gráficos\n",
        "plt.tight_layout()\n",
        "plt.show()"
      ]
    },
    {
      "cell_type": "code",
      "execution_count": null,
      "id": "cdc6e1e5",
      "metadata": {
        "id": "cdc6e1e5"
      },
      "outputs": [],
      "source": [
        "# 5. Faixa etária com maior número de resultados\n",
        "resultados_por_idade = data.groupby('Idade')['Resultados'].sum().sort_values(ascending=False)\n",
        "\n",
        "# Criando o gráfico\n",
        "plt.figure(figsize=(10, 6))\n",
        "idade_plot = sns.barplot(x=resultados_por_idade.index, y=resultados_por_idade.values, palette=\"Blues_d\")\n",
        "plt.title('Faixa Etária com Maior Número de Resultados')\n",
        "plt.xlabel('Faixa Etária')\n",
        "plt.ylabel('Número de Resultados')\n",
        "plt.xticks(rotation=45)\n",
        "plt.tight_layout()\n",
        "\n",
        "# Salvando o gráfico\n",
        "file_path_idade = 'grafico_faixa_etaria_resultados.png'\n",
        "plt.savefig(file_path_idade)\n",
        "\n",
        "file_path_idade"
      ]
    },
    {
      "cell_type": "code",
      "execution_count": null,
      "id": "cad86e98",
      "metadata": {
        "id": "cad86e98"
      },
      "outputs": [],
      "source": [
        "# 6. Gênero com maior número de resultados\n",
        "resultados_por_genero = data.groupby('Gênero')['Resultados'].sum().sort_values(ascending=False)\n",
        "\n",
        "# Criando o gráfico\n",
        "plt.figure(figsize=(8, 6))\n",
        "genero_plot = sns.barplot(x=resultados_por_genero.index, y=resultados_por_genero.values, palette=\"PuBuGn_r\")\n",
        "plt.title('Gênero com Maior Número de Resultados')\n",
        "plt.xlabel('Gênero')\n",
        "plt.ylabel('Número de Resultados')\n",
        "plt.tight_layout()\n",
        "\n",
        "# Salvando o gráfico\n",
        "file_path_genero = 'grafico_genero_resultados.png'\n",
        "plt.savefig(file_path_genero)\n",
        "\n",
        "file_path_genero"
      ]
    },
    {
      "cell_type": "code",
      "execution_count": null,
      "id": "21f7a40e",
      "metadata": {
        "id": "21f7a40e"
      },
      "outputs": [],
      "source": [
        "#3. Público com maior número de resultados\n",
        "resultados_por_publico = data.groupby('Nome do conjunto de anúncios')['Resultados'].sum().sort_values(ascending=False).head(10)\n",
        "\n",
        "# Criando o gráfico\n",
        "plt.figure(figsize=(10, 8))\n",
        "publico_plot = sns.barplot(x=resultados_por_publico.values, y=resultados_por_publico.index, palette=\"BuGn_r\")\n",
        "plt.title('Top 10 Públicos com Maior Número de Resultados')\n",
        "plt.xlabel('Número de Resultados')\n",
        "plt.ylabel('Nome do Conjunto de Anúncios')\n",
        "plt.tight_layout()\n",
        "\n",
        "# Salvando o gráfico\n",
        "file_path_publico = 'grafico_publico_resultados.png'\n",
        "plt.savefig(file_path_publico)\n",
        "\n",
        "file_path_publico"
      ]
    },
    {
      "cell_type": "code",
      "execution_count": null,
      "id": "85f4f704",
      "metadata": {
        "id": "85f4f704"
      },
      "outputs": [],
      "source": [
        "#3. Público com menor número de resultados\n",
        "resultados_por_publico = data.groupby('Nome do conjunto de anúncios')['Resultados'].sum().sort_values(ascending=True).head(10)\n",
        "\n",
        "# Criando o gráfico\n",
        "plt.figure(figsize=(10, 8))\n",
        "publico_plot = sns.barplot(x=resultados_por_publico.values, y=resultados_por_publico.index, palette=\"BuGn_r\")\n",
        "plt.title('Top 10 Públicos com Menor Número de Resultados')\n",
        "plt.xlabel('Número de Resultados')\n",
        "plt.ylabel('Nome do Conjunto de Anúncios')\n",
        "plt.tight_layout()\n",
        "\n",
        "# Salvando o gráfico\n",
        "file_path_publico = 'grafico_publico_resultados.png'\n",
        "plt.savefig(file_path_publico)\n",
        "\n",
        "file_path_publico"
      ]
    },
    {
      "cell_type": "code",
      "execution_count": null,
      "id": "07d517d0",
      "metadata": {
        "id": "07d517d0"
      },
      "outputs": [],
      "source": [
        "resultados_por_publico = data.groupby('Nome do conjunto de anúncios')['Resultados'].sum()\n",
        "\n",
        "# Separando os públicos com maior e menor número de resultados\n",
        "top_publicos_maior_resultado = resultados_por_publico.nlargest(10)\n",
        "top_publicos_menor_resultado = resultados_por_publico.nsmallest(10)\n",
        "\n",
        "# Criando a figura e os eixos para os gráficos lado a lado\n",
        "fig, (ax1, ax2) = plt.subplots(1, 2, figsize=(15, 6))\n",
        "\n",
        "# Gráfico dos públicos com maior número de resultados\n",
        "sns.barplot(ax=ax1, x=top_publicos_maior_resultado.values, y=top_publicos_maior_resultado.index, palette=\"Blues_d\")\n",
        "ax1.set_title('Top 10 Públicos com Maior Número de Resultados')\n",
        "ax1.set_xlabel('Número de Resultados')\n",
        "ax1.set_ylabel('Nome do Conjunto de Anúncios')\n",
        "\n",
        "# Gráfico dos públicos com menor número de resultados\n",
        "sns.barplot(ax=ax2, x=top_publicos_menor_resultado.values, y=top_publicos_menor_resultado.index, palette=\"Greens_d\")\n",
        "ax2.set_title('Top 10 Públicos com Menor Número de Resultados')\n",
        "ax2.set_xlabel('Número de Resultados')\n",
        "ax2.set_ylabel('Nome do Conjunto de Anúncios')\n",
        "\n",
        "# Ajustando o layout e exibindo os gráficos\n",
        "plt.tight_layout()\n",
        "plt.show()"
      ]
    },
    {
      "cell_type": "code",
      "execution_count": null,
      "id": "75e16e08",
      "metadata": {
        "id": "75e16e08"
      },
      "outputs": [],
      "source": [
        "# 4. Público com menor média de custo por resultado\n",
        "# Primeiro, calculamos a média de custo por resultado para cada público\n",
        "custo_medio_por_publico = data.groupby('Nome do conjunto de anúncios')['Custo por resultados'].mean().sort_values(ascending=True).head(10)\n",
        "\n",
        "# Agora, obtemos os tipos de resultado mais comuns para cada público selecionado\n",
        "tipos_resultado_por_publico = data[data['Nome do conjunto de anúncios'].isin(custo_medio_por_publico.index)].groupby('Nome do conjunto de anúncios')['Índice de resultados'].agg(lambda x: x.value_counts().index[0] if not x.value_counts().empty else None)\n",
        "\n",
        "# Criando o gráfico\n",
        "plt.figure(figsize=(10, 8))\n",
        "custo_publico_plot = sns.barplot(x=custo_medio_por_publico.values, y=custo_medio_por_publico.index, palette=\"YlOrBr\")\n",
        "plt.title('Top 10 Públicos com Menor Média de Custo por Resultado')\n",
        "plt.xlabel('Média de Custo por Resultado (BRL)')\n",
        "plt.ylabel('Nome do Conjunto de Anúncios')\n",
        "plt.tight_layout()\n",
        "\n",
        "# Adicionando os tipos de resultado como texto no gráfico\n",
        "for index, value in enumerate(custo_medio_por_publico.index):\n",
        "    tipo_resultado = tipos_resultado_por_publico[value]\n",
        "    plt.text(custo_medio_por_publico[value], index, f\"({tipo_resultado})\", va='center')\n",
        "\n",
        "# Salvando o gráfico\n",
        "file_path_custo_publico = 'grafico_custo_medio_publico.png'\n",
        "plt.savefig(file_path_custo_publico)\n",
        "\n",
        "file_path_custo_publico"
      ]
    },
    {
      "cell_type": "code",
      "execution_count": null,
      "id": "120ac183",
      "metadata": {
        "id": "120ac183"
      },
      "outputs": [],
      "source": [
        "# 4. Público com maior média de custo por resultado\n",
        "# Primeiro, calculamos a média de custo por resultado para cada público\n",
        "custo_medio_por_publico = data.groupby('Nome do conjunto de anúncios')['Custo por resultados'].mean().sort_values(ascending=False).head(10)\n",
        "\n",
        "# Agora, obtemos os tipos de resultado mais comuns para cada público selecionado\n",
        "tipos_resultado_por_publico = data[data['Nome do conjunto de anúncios'].isin(custo_medio_por_publico.index)].groupby('Nome do conjunto de anúncios')['Índice de resultados'].agg(lambda x: x.value_counts().index[0] if not x.value_counts().empty else None)\n",
        "\n",
        "# Criando o gráfico\n",
        "plt.figure(figsize=(10, 8))\n",
        "custo_publico_plot = sns.barplot(x=custo_medio_por_publico.values, y=custo_medio_por_publico.index, palette=\"YlOrBr\")\n",
        "plt.title('Top 10 Públicos com Maior Média de Custo por Resultado')\n",
        "plt.xlabel('Média de Custo por Resultado (BRL)')\n",
        "plt.ylabel('Nome do Conjunto de Anúncios')\n",
        "plt.tight_layout()\n",
        "\n",
        "# Adicionando os tipos de resultado como texto no gráfico\n",
        "for index, value in enumerate(custo_medio_por_publico.index):\n",
        "    tipo_resultado = tipos_resultado_por_publico[value]\n",
        "    plt.text(custo_medio_por_publico[value], index, f\"({tipo_resultado})\", va='center')\n",
        "\n",
        "# Salvando o gráfico\n",
        "file_path_custo_publico = 'grafico_custo_medio_publico.png'\n",
        "plt.savefig(file_path_custo_publico)\n",
        "\n",
        "file_path_custo_publico"
      ]
    },
    {
      "cell_type": "code",
      "execution_count": null,
      "id": "209a77c9",
      "metadata": {
        "id": "209a77c9"
      },
      "outputs": [],
      "source": [
        "# Calculando a média de custo por resultado para cada público\n",
        "custo_medio_por_publico = data.groupby('Nome do conjunto de anúncios')['Custo por resultados'].mean()\n",
        "\n",
        "# Separando os públicos com maior e menor média de custo por resultado\n",
        "top_publicos_maior_custo = custo_medio_por_publico.nlargest(10)\n",
        "top_publicos_menor_custo = custo_medio_por_publico.nsmallest(10)\n",
        "\n",
        "# Criando a figura e os eixos para os gráficos lado a lado\n",
        "fig, (ax1, ax2) = plt.subplots(1, 2, figsize=(15, 6))\n",
        "\n",
        "# Gráfico dos públicos com maior média de custo por resultado\n",
        "sns.barplot(ax=ax1, x=top_publicos_maior_custo.values, y=top_publicos_maior_custo.index, palette=\"Blues_d\")\n",
        "ax1.set_title('Top 10 Públicos com Maior Média de Custo por Resultado')\n",
        "ax1.set_xlabel('Média de Custo por Resultado')\n",
        "ax1.set_ylabel('Nome do Conjunto de Anúncios')\n",
        "\n",
        "# Gráfico dos públicos com menor média de custo por resultado\n",
        "sns.barplot(ax=ax2, x=top_publicos_menor_custo.values, y=top_publicos_menor_custo.index, palette=\"Greens_d\")\n",
        "ax2.set_title('Top 10 Públicos com Menor Média de Custo por Resultado')\n",
        "ax2.set_xlabel('Média de Custo por Resultado')\n",
        "ax2.set_ylabel('Nome do Conjunto de Anúncios')\n",
        "\n",
        "# Ajustando o layout e exibindo os gráficos\n",
        "plt.tight_layout()\n",
        "plt.show()"
      ]
    },
    {
      "cell_type": "code",
      "execution_count": null,
      "id": "75abf788",
      "metadata": {
        "id": "75abf788"
      },
      "outputs": [],
      "source": [
        "# 1. Anúncios com maior valor gasto\n",
        "valor_gasto_por_anuncio = data.groupby('Nome do anúncio')['Valor usado (BRL)'].sum().sort_values(ascending=False).head(10)\n",
        "\n",
        "# Criando o gráfico\n",
        "plt.figure(figsize=(10, 8))\n",
        "valor_gasto_plot = sns.barplot(x=valor_gasto_por_anuncio.values, y=valor_gasto_por_anuncio.index, palette=\"coolwarm\")\n",
        "plt.title('Top 10 Anúncios com Maior Valor Gasto')\n",
        "plt.xlabel('Valor Gasto (BRL)')\n",
        "plt.ylabel('Nome do Anúncio')\n",
        "plt.tight_layout()\n",
        "\n",
        "# Salvando o gráfico\n",
        "file_path_valor_gasto = 'grafico_valor_gasto_anuncios.png'\n",
        "plt.savefig(file_path_valor_gasto)\n",
        "\n",
        "file_path_valor_gasto"
      ]
    },
    {
      "cell_type": "code",
      "execution_count": null,
      "id": "cd051492",
      "metadata": {
        "id": "cd051492"
      },
      "outputs": [],
      "source": [
        "# 2. Anúncios com maior número de resultados\n",
        "resultados_por_anuncio = data.groupby('Nome do anúncio')['Resultados'].sum().sort_values(ascending=False).head(10)\n",
        "\n",
        "# Criando o gráfico\n",
        "plt.figure(figsize=(10, 8))\n",
        "resultados_plot = sns.barplot(x=resultados_por_anuncio.values, y=resultados_por_anuncio.index, palette=\"viridis\")\n",
        "plt.title('Top 10 Anúncios com Maior Número de Resultados')\n",
        "plt.xlabel('Número de Resultados')\n",
        "plt.ylabel('Nome do Anúncio')\n",
        "plt.tight_layout()\n",
        "\n",
        "# Salvando o gráfico\n",
        "file_path_resultados = 'grafico_resultados_anuncios.png'\n",
        "plt.savefig(file_path_resultados)\n",
        "\n",
        "file_path_resultados"
      ]
    },
    {
      "cell_type": "code",
      "execution_count": null,
      "id": "52db2979",
      "metadata": {
        "id": "52db2979"
      },
      "outputs": [],
      "source": [
        "# 2. Anúncios com menor número de resultados\n",
        "resultados_por_anuncio = data.groupby('Nome do anúncio')['Resultados'].sum().sort_values(ascending=True).head(10)\n",
        "\n",
        "# Criando o gráfico\n",
        "plt.figure(figsize=(10, 8))\n",
        "resultados_plot = sns.barplot(x=resultados_por_anuncio.values, y=resultados_por_anuncio.index, palette=\"viridis\")\n",
        "plt.title('Top 10 Anúncios com Menor Número de Resultados')\n",
        "plt.xlabel('Número de Resultados')\n",
        "plt.ylabel('Nome do Anúncio')\n",
        "plt.tight_layout()\n",
        "\n",
        "# Salvando o gráfico\n",
        "file_path_resultados = 'grafico_resultados_anuncios.png'\n",
        "plt.savefig(file_path_resultados)\n",
        "\n",
        "file_path_resultados"
      ]
    },
    {
      "cell_type": "code",
      "execution_count": null,
      "id": "d12e9e6a",
      "metadata": {
        "id": "d12e9e6a"
      },
      "outputs": [],
      "source": [
        "# Calculando o número total de resultados para cada anúncio\n",
        "resultados_por_anuncio = data.groupby('Nome do anúncio')['Resultados'].sum()\n",
        "\n",
        "# Separando os anúncios com maior e menor número de resultados\n",
        "top_anuncios_maior_resultado = resultados_por_anuncio.nlargest(10)\n",
        "top_anuncios_menor_resultado = resultados_por_anuncio.nsmallest(10)\n",
        "\n",
        "# Criando a figura e os eixos para os gráficos lado a lado\n",
        "fig, (ax1, ax2) = plt.subplots(1, 2, figsize=(15, 6))\n",
        "\n",
        "# Gráfico dos anúncios com maior número de resultados\n",
        "sns.barplot(ax=ax1, x=top_anuncios_maior_resultado.values, y=top_anuncios_maior_resultado.index, palette=\"Blues_d\")\n",
        "ax1.set_title('Top 10 Anúncios com Maior Número de Resultados')\n",
        "ax1.set_xlabel('Número de Resultados')\n",
        "ax1.set_ylabel('Nome do Anúncio')\n",
        "\n",
        "# Gráfico dos anúncios com menor número de resultados\n",
        "sns.barplot(ax=ax2, x=top_anuncios_menor_resultado.values, y=top_anuncios_menor_resultado.index, palette=\"Greens_d\")\n",
        "ax2.set_title('Top 10 Anúncios com Menor Número de Resultados')\n",
        "ax2.set_xlabel('Número de Resultados')\n",
        "ax2.set_ylabel('Nome do Anúncio')\n",
        "\n",
        "# Ajustando o layout e exibindo os gráficos\n",
        "plt.tight_layout()\n",
        "plt.show()"
      ]
    },
    {
      "cell_type": "code",
      "execution_count": null,
      "id": "418ee623",
      "metadata": {
        "id": "418ee623"
      },
      "outputs": [],
      "source": [
        "# 3. Anúncios com menor média de custo por resultado\n",
        "custo_medio_por_anuncio = data.groupby('Nome do anúncio')['Custo por resultados'].mean().sort_values(ascending=True).head(10)\n",
        "\n",
        "# Criando o gráfico\n",
        "plt.figure(figsize=(10, 8))\n",
        "custo_medio_plot = sns.barplot(x=custo_medio_por_anuncio.values, y=custo_medio_por_anuncio.index, palette=\"cubehelix\")\n",
        "plt.title('Top 10 Anúncios com Menor Média de Custo por Resultado')\n",
        "plt.xlabel('Média de Custo por Resultado (BRL)')\n",
        "plt.ylabel('Nome do Anúncio')\n",
        "plt.tight_layout()\n",
        "\n",
        "# Salvando o gráfico\n",
        "file_path_custo_medio = 'grafico_custo_medio_anuncios.png'\n",
        "plt.savefig(file_path_custo_medio)\n",
        "\n",
        "file_path_custo_medio"
      ]
    },
    {
      "cell_type": "code",
      "execution_count": null,
      "id": "f9dfdc91",
      "metadata": {
        "id": "f9dfdc91"
      },
      "outputs": [],
      "source": [
        "# 3. Anúncios com maior média de custo por resultado\n",
        "custo_medio_por_anuncio = data.groupby('Nome do anúncio')['Custo por resultados'].mean().sort_values(ascending=False).head(10)\n",
        "\n",
        "# Criando o gráfico\n",
        "plt.figure(figsize=(10, 8))\n",
        "custo_medio_plot = sns.barplot(x=custo_medio_por_anuncio.values, y=custo_medio_por_anuncio.index, palette=\"cubehelix\")\n",
        "plt.title('Top 10 Anúncios com Maior Média de Custo por Resultado')\n",
        "plt.xlabel('Média de Custo por Resultado (BRL)')\n",
        "plt.ylabel('Nome do Anúncio')\n",
        "plt.tight_layout()\n",
        "\n",
        "# Salvando o gráfico\n",
        "file_path_custo_medio = 'grafico_custo_medio_anuncios.png'\n",
        "plt.savefig(file_path_custo_medio)\n",
        "\n",
        "file_path_custo_medio"
      ]
    },
    {
      "cell_type": "code",
      "execution_count": null,
      "id": "d572e9f5",
      "metadata": {
        "id": "d572e9f5"
      },
      "outputs": [],
      "source": [
        "# Calculando a média de custo por resultado para cada anúncio e público\n",
        "custo_medio_por_anuncio = data.groupby('Nome do anúncio')['Custo por resultados'].mean()\n",
        "custo_medio_por_publico = data.groupby('Nome do conjunto de anúncios')['Custo por resultados'].mean()\n",
        "\n",
        "# Separando os anúncios e públicos com maior e menor média de custo por resultado\n",
        "top_anuncios_maior_custo = custo_medio_por_anuncio.nlargest(10)\n",
        "top_publicos_menor_custo = custo_medio_por_publico.nsmallest(10)\n",
        "\n",
        "# Criando a figura e os eixos para os gráficos lado a lado\n",
        "fig, (ax1, ax2) = plt.subplots(1, 2, figsize=(15, 6))\n",
        "\n",
        "# Gráfico dos anúncios com maior média de custo por resultado\n",
        "sns.barplot(ax=ax1, x=top_anuncios_maior_custo.values, y=top_anuncios_maior_custo.index, palette=\"Blues_d\")\n",
        "ax1.set_title('Top 10 Anúncios com Maior Média de Custo por Resultado')\n",
        "ax1.set_xlabel('Média de Custo por Resultado')\n",
        "ax1.set_ylabel('Nome do Anúncio')\n",
        "\n",
        "# Gráfico dos públicos com menor média de custo por resultado\n",
        "sns.barplot(ax=ax2, x=top_publicos_menor_custo.values, y=top_publicos_menor_custo.index, palette=\"Greens_d\")\n",
        "ax2.set_title('Top 10 Públicos com Menor Média de Custo por Resultado')\n",
        "ax2.set_xlabel('Média de Custo por Resultado')\n",
        "ax2.set_ylabel('Nome do Conjunto de Anúncios')\n",
        "\n",
        "# Ajustando o layout e exibindo os gráficos\n",
        "plt.tight_layout()\n",
        "plt.show()"
      ]
    },
    {
      "cell_type": "code",
      "execution_count": null,
      "id": "89d73c27",
      "metadata": {
        "id": "89d73c27"
      },
      "outputs": [],
      "source": [
        "# 4. Anúncios com maior média de CTR (Cliques no link)\n",
        "ctr_medio_por_anuncio = data.groupby('Nome do anúncio')['CTR (taxa de cliques no link)'].mean().sort_values(ascending=False).head(10)\n",
        "\n",
        "# Criando o gráfico\n",
        "plt.figure(figsize=(10, 8))\n",
        "ctr_plot = sns.barplot(x=ctr_medio_por_anuncio.values, y=ctr_medio_por_anuncio.index, palette=\"rocket\")\n",
        "plt.title('Top 10 Anúncios com Maior Média de CTR (Cliques no Link)')\n",
        "plt.xlabel('Média de CTR (%)')\n",
        "plt.ylabel('Nome do Anúncio')\n",
        "plt.tight_layout()\n",
        "\n",
        "# Salvando o gráfico\n",
        "file_path_ctr = 'grafico_ctr_anuncios.png'\n",
        "plt.savefig(file_path_ctr)\n",
        "\n",
        "file_path_ctr"
      ]
    },
    {
      "cell_type": "code",
      "execution_count": null,
      "id": "81f9f883",
      "metadata": {
        "id": "81f9f883"
      },
      "outputs": [],
      "source": [
        "# 4. Anúncios com menor média de CTR (Cliques no link)\n",
        "ctr_medio_por_anuncio = data.groupby('Nome do anúncio')['CTR (taxa de cliques no link)'].mean().sort_values(ascending=True).head(10)\n",
        "\n",
        "# Criando o gráfico\n",
        "plt.figure(figsize=(10, 8))\n",
        "ctr_plot = sns.barplot(x=ctr_medio_por_anuncio.values, y=ctr_medio_por_anuncio.index, palette=\"rocket\")\n",
        "plt.title('Top 10 Anúncios com Menor Média de CTR (Cliques no Link)')\n",
        "plt.xlabel('Média de CTR (%)')\n",
        "plt.ylabel('Nome do Anúncio')\n",
        "plt.tight_layout()\n",
        "\n",
        "# Salvando o gráfico\n",
        "file_path_ctr = 'grafico_ctr_anuncios.png'\n",
        "plt.savefig(file_path_ctr)\n",
        "\n",
        "file_path_ctr"
      ]
    },
    {
      "cell_type": "code",
      "execution_count": null,
      "id": "eab2abba",
      "metadata": {
        "id": "eab2abba"
      },
      "outputs": [],
      "source": [
        "# Calculando a média de CTR para cada anúncio e campanha\n",
        "ctr_medio_por_anuncio = data.groupby('Nome do anúncio')['CTR (taxa de cliques no link)'].mean()\n",
        "ctr_medio_por_campanha = data.groupby('Nome da campanha')['CTR (taxa de cliques no link)'].mean()\n",
        "\n",
        "# Separando os anúncios e campanhas com maior e menor média de CTR\n",
        "top_anuncios_maior_ctr = ctr_medio_por_anuncio.nlargest(10)\n",
        "top_campanhas_menor_ctr = ctr_medio_por_campanha.nsmallest(10)\n",
        "\n",
        "# Criando a figura e os eixos para os gráficos lado a lado\n",
        "fig, (ax1, ax2) = plt.subplots(1, 2, figsize=(15, 6))\n",
        "\n",
        "# Gráfico dos anúncios com maior média de CTR\n",
        "sns.barplot(ax=ax1, x=top_anuncios_maior_ctr.values, y=top_anuncios_maior_ctr.index, palette=\"Blues_d\")\n",
        "ax1.set_title('Top 10 Anúncios com Maior Média de CTR')\n",
        "ax1.set_xlabel('Média de CTR (%)')\n",
        "ax1.set_ylabel('Nome do Anúncio')\n",
        "\n",
        "# Gráfico das campanhas com menor média de CTR\n",
        "sns.barplot(ax=ax2, x=top_campanhas_menor_ctr.values, y=top_campanhas_menor_ctr.index, palette=\"Greens_d\")\n",
        "ax2.set_title('Top 10 Campanhas com Menor Média de CTR')\n",
        "ax2.set_xlabel('Média de CTR (%)')\n",
        "ax2.set_ylabel('Nome da Campanha')\n",
        "\n",
        "# Ajustando o layout e exibindo os gráficos\n",
        "plt.tight_layout()\n",
        "plt.show()"
      ]
    },
    {
      "cell_type": "code",
      "execution_count": null,
      "id": "4148f2ee",
      "metadata": {
        "id": "4148f2ee"
      },
      "outputs": [],
      "source": [
        "# Classificando os anúncios em \"Carrossel\", \"Estático\" ou \"Vídeo\"\n",
        "data['Tipo de Anúncio'] = 'Outro'\n",
        "data.loc[data['Nome do anúncio'].str.contains('Carrossel', case=False, na=False), 'Tipo de Anúncio'] = 'Carrossel'\n",
        "data.loc[data['Nome do anúncio'].str.contains('Estático', case=False, na=False), 'Tipo de Anúncio'] = 'Estático'\n",
        "data.loc[data['Nome do anúncio'].str.contains('Vídeo', case=False, na=False), 'Tipo de Anúncio'] = 'Vídeo'\n",
        "\n",
        "# Calculando qual tipo de anúncio dá mais resultados\n",
        "resultados_por_tipo_anuncio = data.groupby('Tipo de Anúncio')['Resultados'].sum().sort_values(ascending=False)\n",
        "\n",
        "resultados_por_tipo_anuncio"
      ]
    },
    {
      "cell_type": "code",
      "execution_count": null,
      "id": "03234f27",
      "metadata": {
        "id": "03234f27"
      },
      "outputs": [],
      "source": [
        "# 1. Tipos de anúncios com maior valor gasto\n",
        "valor_gasto_por_tipo_anuncio = data.groupby('Tipo de Anúncio')['Valor usado (BRL)'].sum().sort_values(ascending=False)\n",
        "\n",
        "# Criando o gráfico\n",
        "plt.figure(figsize=(8, 6))\n",
        "valor_gasto_tipo_plot = sns.barplot(x=valor_gasto_por_tipo_anuncio.index, y=valor_gasto_por_tipo_anuncio.values, palette=\"coolwarm\")\n",
        "plt.title('Valor Gasto por Tipo de Anúncio')\n",
        "plt.xlabel('Tipo de Anúncio')\n",
        "plt.ylabel('Valor Gasto (BRL)')\n",
        "plt.tight_layout()\n",
        "\n",
        "# Salvando o gráfico\n",
        "file_path_valor_gasto_tipo = 'grafico_valor_gasto_tipo_anuncios.png'\n",
        "plt.savefig(file_path_valor_gasto_tipo)\n",
        "\n",
        "file_path_valor_gasto_tipo"
      ]
    },
    {
      "cell_type": "code",
      "execution_count": null,
      "id": "e8272db3",
      "metadata": {
        "id": "e8272db3"
      },
      "outputs": [],
      "source": [
        "# 2. Tipos de anúncios com maior número de resultados\n",
        "resultados_tipo_plot = sns.barplot(x=resultados_por_tipo_anuncio.index, y=resultados_por_tipo_anuncio.values, palette=\"viridis\")\n",
        "plt.title('Número de Resultados por Tipo de Anúncio')\n",
        "plt.xlabel('Tipo de Anúncio')\n",
        "plt.ylabel('Número de Resultados')\n",
        "plt.tight_layout()\n",
        "\n",
        "# Salvando o gráfico\n",
        "file_path_resultados_tipo = 'grafico_resultados_tipo_anuncios.png'\n",
        "plt.savefig(file_path_resultados_tipo)\n",
        "\n",
        "file_path_resultados_tipo"
      ]
    },
    {
      "cell_type": "code",
      "execution_count": null,
      "id": "65fcd3d2",
      "metadata": {
        "id": "65fcd3d2"
      },
      "outputs": [],
      "source": [
        "# 3. Tipos de anúncios com menor média de custo por resultado\n",
        "custo_medio_por_tipo_anuncio = data.groupby('Tipo de Anúncio')['Custo por resultados'].mean().sort_values(ascending=True)\n",
        "tipos_resultado_por_tipo_anuncio = data.groupby('Tipo de Anúncio')['Índice de resultados'].agg(lambda x:x.value_counts().index[0])\n",
        "\n",
        "# Criando o gráfico\n",
        "plt.figure(figsize=(8, 6))\n",
        "custo_medio_tipo_plot = sns.barplot(x=custo_medio_por_tipo_anuncio.index, y=custo_medio_por_tipo_anuncio.values, palette=\"cubehelix\")\n",
        "plt.title('Média de Custo por Resultado por Tipo de Anúncio')\n",
        "plt.xlabel('Tipo de Anúncio')\n",
        "plt.ylabel('Média de Custo por Resultado (BRL)')\n",
        "\n",
        "# Adicionando os tipos de resultado como texto no gráfico\n",
        "for index, value in enumerate(custo_medio_por_tipo_anuncio.index):\n",
        "    tipo_resultado = tipos_resultado_por_tipo_anuncio[value]\n",
        "    x_pos = index\n",
        "    # Ajustando o valor de y para mover o texto para cima\n",
        "    # O valor 0.05 é apenas um exemplo, ajuste conforme necessário\n",
        "    y_pos = custo_medio_por_tipo_anuncio[value] + 0.35\n",
        "\n",
        "    plt.text(x_pos, y_pos, f\"({tipo_resultado})\", va='center', ha='center')\n",
        "\n",
        "# Salvando o gráfico\n",
        "file_path_custo_medio_tipo = 'grafico_custo_medio_tipo_anuncios.png'\n",
        "plt.savefig(file_path_custo_medio_tipo)\n",
        "\n",
        "file_path_custo_medio_tipo"
      ]
    },
    {
      "cell_type": "code",
      "execution_count": null,
      "id": "2fe44916",
      "metadata": {
        "id": "2fe44916"
      },
      "outputs": [],
      "source": [
        "# 4. Tipos de anúncios com maior média de CTR (Cliques no link)\n",
        "ctr_medio_por_tipo_anuncio = data.groupby('Tipo de Anúncio')['CTR (taxa de cliques no link)'].mean().sort_values(ascending=False)\n",
        "\n",
        "# Criando o gráfico\n",
        "plt.figure(figsize=(8, 6))\n",
        "ctr_tipo_plot = sns.barplot(x=ctr_medio_por_tipo_anuncio.index, y=ctr_medio_por_tipo_anuncio.values, palette=\"rocket\")\n",
        "plt.title('Média de CTR por Tipo de Anúncio')\n",
        "plt.xlabel('Tipo de Anúncio')\n",
        "plt.ylabel('Média de CTR (%)')\n",
        "\n",
        "for index, value in enumerate(ctr_medio_por_tipo_anuncio.index):\n",
        "    tipo_resultado = tipos_resultado_por_tipo_anuncio[value]\n",
        "    x_pos = index\n",
        "    # Ajustando o valor de y para mover o texto para cima\n",
        "    # O valor 0.05 é apenas um exemplo, ajuste conforme necessário\n",
        "    y_pos = ctr_medio_por_tipo_anuncio[value] + 0.05\n",
        "\n",
        "    plt.text(x_pos, y_pos, f\"({tipo_resultado})\", va='center', ha='center')\n",
        "\n",
        "# Salvando o gráfico\n",
        "file_path_ctr_tipo = 'grafico_ctr_tipo_anuncios.png'\n",
        "plt.savefig(file_path_ctr_tipo)\n",
        "\n",
        "file_path_ctr_tipo\n"
      ]
    },
    {
      "cell_type": "code",
      "execution_count": null,
      "id": "690d8c1d",
      "metadata": {
        "id": "690d8c1d"
      },
      "outputs": [],
      "source": [
        "# Calculando a média de custo por resultado e o valor total usado para cada campanha\n",
        "custo_medio_por_campanha = data.groupby('Nome da campanha')['Custo por resultados'].mean()\n",
        "valor_usado_por_campanha = data.groupby('Nome da campanha')['Valor usado (BRL)'].sum()\n",
        "\n",
        "# Combinando as duas métricas em um DataFrame\n",
        "analise_campanhas = pd.DataFrame({\n",
        "    'Custo Médio por Resultado': custo_medio_por_campanha,\n",
        "    'Valor Usado Total': valor_usado_por_campanha\n",
        "}).reset_index()\n",
        "\n",
        "# Ordenando as campanhas pelo custo médio por resultado e depois pelo valor usado\n",
        "analise_campanhas.sort_values(by=['Custo Médio por Resultado', 'Valor Usado Total'], ascending=[True, True], inplace=True)\n",
        "\n",
        "# Identificando campanhas eficientes\n",
        "# Campanhas com baixo custo por resultado e menor valor usado do que outras campanhas de custo mais alto\n",
        "campanhas_eficientes = []\n",
        "for i, campanha in analise_campanhas.iterrows():\n",
        "    campanhas_mais_caras = analise_campanhas[(analise_campanhas['Custo Médio por Resultado'] > campanha['Custo Médio por Resultado']) &\n",
        "                                             (analise_campanhas['Valor Usado Total'] > campanha['Valor Usado Total'])]\n",
        "    if not campanhas_mais_caras.empty:\n",
        "        campanhas_eficientes.append(campanha['Nome da campanha'])\n",
        "\n",
        "# Convertendo a lista em um DataFrame para melhor visualização\n",
        "campanhas_eficientes_df = pd.DataFrame(campanhas_eficientes, columns=['Campanhas Eficientes'])\n",
        "campanhas_eficientes_df"
      ]
    },
    {
      "source": [
        "# @title Campanhas Eficientes\n",
        "\n",
        "from matplotlib import pyplot as plt\n",
        "import seaborn as sns\n",
        "campanhas_eficientes_df.groupby('Campanhas Eficientes').size().plot(kind='barh', color=sns.palettes.mpl_palette('Dark2'))\n",
        "plt.gca().spines[['top', 'right',]].set_visible(False)"
      ],
      "cell_type": "code",
      "execution_count": null,
      "outputs": [],
      "metadata": {
        "cellView": "form",
        "id": "_nPZnj3RHqXK"
      },
      "id": "_nPZnj3RHqXK"
    },
    {
      "cell_type": "code",
      "execution_count": null,
      "id": "c5ba4337",
      "metadata": {
        "id": "c5ba4337"
      },
      "outputs": [],
      "source": [
        "# Calculando a média de CTR e o total de resultados para cada campanha\n",
        "ctr_medio_por_campanha = data.groupby('Nome da campanha')['CTR (taxa de cliques no link)'].mean()\n",
        "resultados_por_campanha = data.groupby('Nome da campanha')['Resultados'].sum()\n",
        "\n",
        "# Combinando as duas métricas em um DataFrame\n",
        "analise_ctr_campanhas = pd.DataFrame({\n",
        "    'CTR Médio': ctr_medio_por_campanha,\n",
        "    'Total de Resultados': resultados_por_campanha\n",
        "}).reset_index()\n",
        "\n",
        "# Identificando campanhas com CTR alto e menos resultados\n",
        "# em comparação a campanhas com CTR menor e mais resultados\n",
        "campanhas_otimizacao = analise_ctr_campanhas[\n",
        "    (analise_ctr_campanhas['CTR Médio'] > analise_ctr_campanhas['CTR Médio'].median()) &\n",
        "    (analise_ctr_campanhas['Total de Resultados'] < analise_ctr_campanhas['Total de Resultados'].median())\n",
        "]\n",
        "\n",
        "campanhas_otimizacao"
      ]
    }
  ],
  "metadata": {
    "kernelspec": {
      "display_name": "Python 3 (ipykernel)",
      "language": "python",
      "name": "python3"
    },
    "language_info": {
      "codemirror_mode": {
        "name": "ipython",
        "version": 3
      },
      "file_extension": ".py",
      "mimetype": "text/x-python",
      "name": "python",
      "nbconvert_exporter": "python",
      "pygments_lexer": "ipython3",
      "version": "3.11.5"
    },
    "colab": {
      "provenance": []
    }
  },
  "nbformat": 4,
  "nbformat_minor": 5
}